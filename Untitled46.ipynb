{
  "nbformat": 4,
  "nbformat_minor": 0,
  "metadata": {
    "colab": {
      "provenance": [],
      "authorship_tag": "ABX9TyPl8DvP2uUlydTlQ1KVaYqI",
      "include_colab_link": true
    },
    "kernelspec": {
      "name": "python3",
      "display_name": "Python 3"
    },
    "language_info": {
      "name": "python"
    }
  },
  "cells": [
    {
      "cell_type": "markdown",
      "metadata": {
        "id": "view-in-github",
        "colab_type": "text"
      },
      "source": [
        "<a href=\"https://colab.research.google.com/github/ngin10/Text-_summariser_new/blob/main/Untitled46.ipynb\" target=\"_parent\"><img src=\"https://colab.research.google.com/assets/colab-badge.svg\" alt=\"Open In Colab\"/></a>"
      ]
    },
    {
      "cell_type": "code",
      "execution_count": 1,
      "metadata": {
        "id": "Lyc4TGZalnW7"
      },
      "outputs": [],
      "source": [
        "text='''Narendra Damodardas Modi[a] (born 17 September 1950)[b] is an Indian politician who has served as the prime minister of India since 2014. Modi was the chief minister of Gujarat from 2001 to 2014 and is the member of parliament (MP) for Varanasi. He is a member of the Bharatiya Janata Party (BJP) and of the Rashtriya Swayamsevak Sangh (RSS), a Hindu nationalist paramilitary volunteer organisation. He is the longest-serving prime minister outside the Indian National Congress.[4]\n",
        "\n",
        "Modi was born and raised in Vadnagar in northeastern Gujarat, where he completed his secondary education. He was introduced to the RSS at the age of eight. At the age of 18, he was married to Jashodaben Modi, whom he abandoned soon after, only publicly acknowledging her four decades later when legally required to do so. Modi became a full-time worker for the RSS in Gujarat in 1971. The RSS assigned him to the BJP in 1985 and he rose through the party hierarchy, becoming general secretary in 1998.[c] In 2001, Modi was appointed chief minister of Gujarat and elected to the legislative assembly soon after. His administration is considered complicit in the 2002 Gujarat riots,[d] and has been criticised for its management of the crisis. According to official records, a little over 1,000 people were killed, three-quarters of whom were Muslim; independent sources estimated 2,000 deaths, mostly Muslim.[13] A Special Investigation Team appointed by the Supreme Court of India in 2012 found no evidence to initiate prosecution proceedings against him.[e] While his policies as chief minister were credited for encouraging economic growth, his administration was criticised for failing to significantly improve health, poverty and education indices in the state.'''\n"
      ]
    },
    {
      "cell_type": "code",
      "source": [
        "import spacy"
      ],
      "metadata": {
        "id": "IBSXVJsPlujf"
      },
      "execution_count": 2,
      "outputs": []
    },
    {
      "cell_type": "code",
      "source": [
        "import spacy.lang.en.stop_words as stop_words\n",
        "from string import punctuation"
      ],
      "metadata": {
        "id": "vqeBFTl5lvvF"
      },
      "execution_count": 9,
      "outputs": []
    },
    {
      "cell_type": "code",
      "source": [
        "stopwords=[stop_words]"
      ],
      "metadata": {
        "id": "uTlYTBcNl6uG"
      },
      "execution_count": 4,
      "outputs": []
    },
    {
      "cell_type": "code",
      "source": [],
      "metadata": {
        "id": "3NMT_2zAnl7h"
      },
      "execution_count": null,
      "outputs": []
    },
    {
      "cell_type": "code",
      "source": [
        "nlp=spacy.load('en_core_web_sm')"
      ],
      "metadata": {
        "id": "x3Wy5Bckl-eT"
      },
      "execution_count": 5,
      "outputs": []
    },
    {
      "cell_type": "code",
      "source": [
        "doc=nlp(text)"
      ],
      "metadata": {
        "id": "S8Gp3ZGJmBjA"
      },
      "execution_count": 6,
      "outputs": []
    },
    {
      "cell_type": "code",
      "source": [
        "tokens = [token.text for token in doc]"
      ],
      "metadata": {
        "id": "na9tmpz_nmv5"
      },
      "execution_count": 11,
      "outputs": []
    },
    {
      "cell_type": "code",
      "source": [
        "punctuation=punctuation+'\\n'"
      ],
      "metadata": {
        "id": "fJ-gLJ3Tntyg"
      },
      "execution_count": 12,
      "outputs": []
    },
    {
      "cell_type": "code",
      "source": [],
      "metadata": {
        "id": "l1r76_zYntwI"
      },
      "execution_count": null,
      "outputs": []
    },
    {
      "cell_type": "code",
      "source": [
        "word_frequency={}\n",
        "for word in doc:\n",
        "  if word.lower_ not in stopwords:\n",
        "    if word.text.lower() not in punctuation:\n",
        "      if word.text not in word_frequency.keys():\n",
        "        word_frequency[word.text]=1\n",
        "      else:\n",
        "        word_frequency[word.text]+=1\n",
        ""
      ],
      "metadata": {
        "id": "8HveiirqmEFp"
      },
      "execution_count": 14,
      "outputs": []
    },
    {
      "cell_type": "code",
      "source": [
        "max_frequenxy=max(word_frequency.values())"
      ],
      "metadata": {
        "id": "_psp7KX_oaG4"
      },
      "execution_count": 15,
      "outputs": []
    },
    {
      "cell_type": "code",
      "source": [
        "for word in word_frequency.keys():\n",
        "  word_frequency[word]=word_frequency[word]/max_frequenxy\n",
        ""
      ],
      "metadata": {
        "id": "H_xPumoioaD5"
      },
      "execution_count": 16,
      "outputs": []
    },
    {
      "cell_type": "code",
      "source": [
        "sentence_tokens=[sent for sent in doc.sents]"
      ],
      "metadata": {
        "id": "l9rAKMPBmY9z"
      },
      "execution_count": 17,
      "outputs": []
    },
    {
      "cell_type": "code",
      "source": [
        "sentence_score={}\n",
        "for sent in sentence_tokens:\n",
        "  for word in x:\n",
        "    if word.text.lower() in word_frequency.keys():\n",
        "      if sent not in sentence_score.keys():\n",
        "        sentence_score[sent]=word_frequency[word.text.lower()]"
      ],
      "metadata": {
        "id": "Fg8oRv4Loq_q"
      },
      "execution_count": 19,
      "outputs": []
    },
    {
      "cell_type": "code",
      "source": [
        "sentence_score\n"
      ],
      "metadata": {
        "colab": {
          "base_uri": "https://localhost:8080/"
        },
        "id": "J9n-YSsqpAFZ",
        "outputId": "39c69462-4d44-4f22-b10c-4dbc836f05be"
      },
      "execution_count": 20,
      "outputs": [
        {
          "output_type": "execute_result",
          "data": {
            "text/plain": [
              "{Narendra Damodardas Modi[a] (born 17 September 1950)[b] is an Indian politician who has served as the prime minister of India since 2014.: 0.1111111111111111,\n",
              " Modi was the chief minister of Gujarat from 2001 to 2014 and is the member of parliament (MP) for Varanasi.: 0.1111111111111111,\n",
              " He is a member of the Bharatiya Janata Party (BJP) and of the Rashtriya Swayamsevak Sangh (RSS), a Hindu nationalist paramilitary volunteer organisation.: 0.1111111111111111,\n",
              " He is the longest-serving prime minister outside the Indian National Congress.[4]\n",
              " \n",
              " Modi was born and raised in Vadnagar in northeastern Gujarat, where he completed his secondary education.: 0.1111111111111111,\n",
              " He was introduced to the RSS at the age of eight.: 0.1111111111111111,\n",
              " At the age of 18, he was married to Jashodaben Modi, whom he abandoned soon after, only publicly acknowledging her four decades later when legally required to do so.: 0.1111111111111111,\n",
              " Modi became a full-time worker for the RSS in Gujarat in 1971.: 0.1111111111111111,\n",
              " The RSS assigned him to the BJP in 1985 and he rose through the party hierarchy, becoming general secretary in 1998.[c]: 0.1111111111111111,\n",
              " In 2001, Modi was appointed chief minister of Gujarat and elected to the legislative assembly soon after.: 0.1111111111111111,\n",
              " His administration is considered complicit in the 2002 Gujarat riots,[d] and has been criticised for its management of the crisis.: 0.1111111111111111,\n",
              " According to official records, a little over 1,000 people were killed, three-quarters of whom were Muslim; independent sources estimated 2,000 deaths, mostly Muslim.[13]: 0.1111111111111111,\n",
              " A Special Investigation Team appointed by the Supreme Court of India in 2012 found no evidence to initiate prosecution proceedings against him.[e] While his policies as chief minister were credited for encouraging economic growth, his administration was criticised for failing to significantly improve health, poverty and education indices in the state.: 0.1111111111111111}"
            ]
          },
          "metadata": {},
          "execution_count": 20
        }
      ]
    },
    {
      "cell_type": "code",
      "source": [
        "from heapq import nlargest"
      ],
      "metadata": {
        "id": "pcSqUUebpABI"
      },
      "execution_count": 21,
      "outputs": []
    },
    {
      "cell_type": "code",
      "source": [
        "length=int(len(sentence_tokens)*0.6)"
      ],
      "metadata": {
        "id": "Iz8rokvrpOPA"
      },
      "execution_count": 26,
      "outputs": []
    },
    {
      "cell_type": "code",
      "source": [
        "summary=nlargest(length,sentence_score,key=sentence_score.get)"
      ],
      "metadata": {
        "id": "OnLsMxE6pWNN"
      },
      "execution_count": 27,
      "outputs": []
    },
    {
      "cell_type": "code",
      "source": [
        "summary"
      ],
      "metadata": {
        "colab": {
          "base_uri": "https://localhost:8080/"
        },
        "id": "Xa8HIEYQpnHw",
        "outputId": "1f6775dd-ef41-42bf-c792-18a7a6c316b6"
      },
      "execution_count": 28,
      "outputs": [
        {
          "output_type": "execute_result",
          "data": {
            "text/plain": [
              "[Narendra Damodardas Modi[a] (born 17 September 1950)[b] is an Indian politician who has served as the prime minister of India since 2014.,\n",
              " Modi was the chief minister of Gujarat from 2001 to 2014 and is the member of parliament (MP) for Varanasi.,\n",
              " He is a member of the Bharatiya Janata Party (BJP) and of the Rashtriya Swayamsevak Sangh (RSS), a Hindu nationalist paramilitary volunteer organisation.,\n",
              " He is the longest-serving prime minister outside the Indian National Congress.[4]\n",
              " \n",
              " Modi was born and raised in Vadnagar in northeastern Gujarat, where he completed his secondary education.,\n",
              " He was introduced to the RSS at the age of eight.,\n",
              " At the age of 18, he was married to Jashodaben Modi, whom he abandoned soon after, only publicly acknowledging her four decades later when legally required to do so.,\n",
              " Modi became a full-time worker for the RSS in Gujarat in 1971.]"
            ]
          },
          "metadata": {},
          "execution_count": 28
        }
      ]
    },
    {
      "cell_type": "code",
      "source": [],
      "metadata": {
        "id": "VDD4tYDDpnyc"
      },
      "execution_count": null,
      "outputs": []
    }
  ]
}